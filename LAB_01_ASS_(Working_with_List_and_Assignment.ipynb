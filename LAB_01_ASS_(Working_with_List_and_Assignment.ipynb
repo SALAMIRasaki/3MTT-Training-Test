{
  "cells": [
    {
      "cell_type": "markdown",
      "metadata": {
        "id": "view-in-github",
        "colab_type": "text"
      },
      "source": [
        "<a href=\"https://colab.research.google.com/github/SALAMIRasaki/3MTT-Training-Test/blob/main/LAB_01_ASS_(Working_with_List_and_Assignment.ipynb\" target=\"_parent\"><img src=\"https://colab.research.google.com/assets/colab-badge.svg\" alt=\"Open In Colab\"/></a>"
      ]
    },
    {
      "cell_type": "markdown",
      "id": "0",
      "metadata": {
        "id": "0"
      },
      "source": [
        "# Lab 1\n",
        "\n",
        "[![Open In Colab](https://colab.research.google.com/assets/colab-badge.svg)](https://colab.research.google.com/github/giswqs/geog-312/blob/main/book/labs/lab_01.ipynb)"
      ]
    },
    {
      "cell_type": "markdown",
      "id": "1",
      "metadata": {
        "id": "1"
      },
      "source": [
        "## Exercise 1: Variable Assignment and Basic Operations\n",
        "\n",
        "Create variables to store the following geospatial data:\n",
        "\n",
        "- The latitude and longitude of New York City: 40.7128, -74.0060.\n",
        "- The population of New York City: 8,336,817.\n",
        "- The area of New York City in square kilometers: 783.8.\n",
        "\n",
        "Perform the following tasks:\n",
        "\n",
        "1. Calculate and print the population density of New York City (population per square kilometer).\n",
        "2. Print the coordinates in the format \"Latitude: [latitude], Longitude: [longitude]\"."
      ]
    },
    {
      "cell_type": "code",
      "execution_count": null,
      "id": "2",
      "metadata": {
        "id": "2",
        "colab": {
          "base_uri": "https://localhost:8080/"
        },
        "outputId": "720daa10-0fe1-474d-b2a7-4ea7d69f36cc"
      },
      "outputs": [
        {
          "output_type": "stream",
          "name": "stdout",
          "text": [
            "Population Density:  10636.408522582293\n",
            "Latitude: 40.7128, Longitude: -74.006\n"
          ]
        }
      ],
      "source": [
        "latitude = 40.7128\n",
        "longitude = -74.0060\n",
        "coordinate_system = \"WGS 84\"\n",
        "NY_area_sqauare_kilometers = 783.8\n",
        "NY_population = 8336817\n",
        "\n",
        "population_density = NY_population/NY_area_sqauare_kilometers\n",
        "latitude = 40.7128\n",
        "longitude = -74.0060\n",
        "coordinate_system = \"WGS 84\"\n",
        "NY_area_sqauare_kilometers = 783.8\n",
        "NY_population = 8336817\n",
        "\n",
        "population_density = NY_population/NY_area_sqauare_kilometers\n",
        "print(\"Population Density: \", population_density)\n",
        "\n",
        "print(f\"Latitude: {latitude}, Longitude: {longitude}\")"
      ]
    },
    {
      "cell_type": "code",
      "source": [],
      "metadata": {
        "id": "zGGSOMcaL4nJ"
      },
      "id": "zGGSOMcaL4nJ",
      "execution_count": null,
      "outputs": []
    },
    {
      "cell_type": "markdown",
      "id": "3",
      "metadata": {
        "id": "3"
      },
      "source": [
        "## Exercise 2: Working with Strings\n",
        "\n",
        "Create a string variable to store the name of a city, such as \"San Francisco\". Perform the following operations:\n",
        "\n",
        "1. Convert the string to lowercase and print the result.\n",
        "2. Convert the string to uppercase and print the result.\n",
        "3. Replace \"San\" with \"Los\" in the city name and print the new string."
      ]
    },
    {
      "cell_type": "code",
      "execution_count": null,
      "id": "4",
      "metadata": {
        "id": "4",
        "colab": {
          "base_uri": "https://localhost:8080/"
        },
        "outputId": "a7edf5fd-3189-46f6-ef3a-bd57148289e5"
      },
      "outputs": [
        {
          "output_type": "stream",
          "name": "stdout",
          "text": [
            "san franscisco\n",
            "SAN FRANSCISCO\n",
            "Los Franscisco\n"
          ]
        }
      ],
      "source": [
        "city = \"San Franscisco\"\n",
        "print(city.lower())\n",
        "print(city.upper())\n",
        "print(city.replace(\"San\", \"Los\"))"
      ]
    },
    {
      "cell_type": "code",
      "source": [
        "ife = \"Create a string variable to store the name of a city\"\n",
        "\n",
        "print(ife.lower())\n",
        "print(ife.upper())\n",
        "print(ife.replace(\"Create\", \"moderate\"))"
      ],
      "metadata": {
        "colab": {
          "base_uri": "https://localhost:8080/"
        },
        "id": "-6QHiI2RpGb0",
        "outputId": "ecbffa7e-07f6-4db6-87b3-5982a2b0b126"
      },
      "id": "-6QHiI2RpGb0",
      "execution_count": null,
      "outputs": [
        {
          "output_type": "stream",
          "name": "stdout",
          "text": [
            "create a string variable to store the name of a city\n",
            "CREATE A STRING VARIABLE TO STORE THE NAME OF A CITY\n",
            "moderate a string variable to store the name of a city\n"
          ]
        }
      ]
    },
    {
      "cell_type": "markdown",
      "id": "5",
      "metadata": {
        "id": "5"
      },
      "source": [
        "## Exercise 3: Using Lists\n",
        "\n",
        "Create a list of tuples, where each tuple contains the name of a city and its corresponding latitude and longitude:\n",
        "\n",
        "- New York City: (40.7128, -74.0060)\n",
        "- Los Angeles: (34.0522, -118.2437)\n",
        "- Chicago: (41.8781, -87.6298)\n",
        "\n",
        "Perform the following tasks:\n",
        "\n",
        "1. Add a new city (e.g., Miami: (25.7617, -80.1918)) to the list.\n",
        "2. Print the entire list of cities.\n",
        "3. Slice the list to print only the first two cities."
      ]
    },
    {
      "cell_type": "code",
      "execution_count": null,
      "id": "6",
      "metadata": {
        "id": "6",
        "colab": {
          "base_uri": "https://localhost:8080/"
        },
        "outputId": "ec44a004-fea5-4f2e-f21a-d45467202d4d"
      },
      "outputs": [
        {
          "output_type": "stream",
          "name": "stdout",
          "text": [
            "[(40.7128, -74.006), (34.0522, -118.2437), (41.8781, -87.6298), (25.7617, -80.1918)]\n",
            "['New york', 'Los Angeles', 'Chicago']\n"
          ]
        }
      ],
      "source": [
        "New_york = (40.7128, -74.0060)\n",
        "Los_Angeles = (34.0522, -118.2437)\n",
        "Chicago = (41.8781, -87.6298)\n",
        "\n",
        "list_name =[\"New york\", \"Los Angeles\", \"Chicago\"]\n",
        "Turble_list = [(40.7128, -74.0060),\n",
        "               (34.0522, -118.2437),\n",
        "               (41.8781, -87.6298)]\n",
        "Turble_list\n",
        "\n",
        "Turble_list.append((25.7617, -80.1918))\n",
        "\n",
        "print(Turble_list)\n",
        "print(list_name)"
      ]
    },
    {
      "cell_type": "markdown",
      "id": "7",
      "metadata": {
        "id": "7"
      },
      "source": [
        "## Exercise 4: Using Tuples\n",
        "\n",
        "Create a tuple to store the coordinates (latitude, longitude) of the Eiffel Tower: (48.8584, 2.2945). Perform the following tasks:\n",
        "\n",
        "1. Access and print the latitude and longitude values from the tuple.\n",
        "2. Try to change the latitude value to 48.8585. What happens? Explain why."
      ]
    },
    {
      "cell_type": "code",
      "source": [
        "latitude  =48.8584\n",
        "longitude = 2.2945\n",
        "\n",
        "Eiffel_Tower = (latitude, longitude)\n",
        "print(Eiffel_Tower)"
      ],
      "metadata": {
        "colab": {
          "base_uri": "https://localhost:8080/"
        },
        "id": "rTiZKbB1unDZ",
        "outputId": "abd27f04-8811-4d95-c7ae-8e6e40f46374"
      },
      "id": "rTiZKbB1unDZ",
      "execution_count": null,
      "outputs": [
        {
          "output_type": "stream",
          "name": "stdout",
          "text": [
            "(48.8584, 2.2945)\n"
          ]
        }
      ]
    },
    {
      "cell_type": "markdown",
      "id": "9",
      "metadata": {
        "id": "9"
      },
      "source": [
        "## Exercise 5: Working with Sets\n",
        "\n",
        "Create a set of countries you have visited, such as {\"USA\", \"France\", \"Germany\"}. Perform the following tasks:\n",
        "\n",
        "1. Add a new country to the set.\n",
        "2. Try to add the same country again. What happens?\n",
        "3. Print the updated set."
      ]
    },
    {
      "cell_type": "code",
      "execution_count": null,
      "id": "10",
      "metadata": {
        "id": "10",
        "colab": {
          "base_uri": "https://localhost:8080/"
        },
        "outputId": "17c933ce-8db8-47eb-9412-1de843d4245f"
      },
      "outputs": [
        {
          "output_type": "execute_result",
          "data": {
            "text/plain": [
              "{'France', 'Germany', 'USA'}"
            ]
          },
          "metadata": {},
          "execution_count": 24
        }
      ],
      "source": [
        "Countries = {\"USA\", \"France\", \"Germany\"}\n",
        "Countries"
      ]
    },
    {
      "cell_type": "code",
      "execution_count": null,
      "metadata": {
        "id": "8",
        "colab": {
          "base_uri": "https://localhost:8080/"
        },
        "outputId": "d9a5191e-2af4-4f3d-f724-78e912db4661"
      },
      "outputs": [
        {
          "output_type": "execute_result",
          "data": {
            "text/plain": [
              "{'France', 'Germany', 'Nigeria', 'USA'}"
            ]
          },
          "metadata": {},
          "execution_count": 28
        }
      ],
      "source": [
        "Countries.add(\"Nigeria\")\n",
        "Countries"
      ],
      "id": "8"
    },
    {
      "cell_type": "code",
      "source": [],
      "metadata": {
        "id": "SWZ6fP9KuelX"
      },
      "id": "SWZ6fP9KuelX",
      "execution_count": null,
      "outputs": []
    },
    {
      "cell_type": "markdown",
      "id": "11",
      "metadata": {
        "id": "11"
      },
      "source": [
        "## Exercise 6: Working with Dictionaries\n",
        "\n",
        "Create a dictionary to store information about a specific geospatial feature, such as a river:\n",
        "\n",
        "- Name: \"Amazon River\"\n",
        "- Length: 6400 km\n",
        "- Countries: [\"Brazil\", \"Peru\", \"Colombia\"]\n",
        "\n",
        "Perform the following tasks:\n",
        "\n",
        "1. Add a new key-value pair to the dictionary to store the river's average discharge (e.g., 209,000 m³/s).\n",
        "2. Update the length of the river to 6992 km.\n",
        "3. Print the dictionary."
      ]
    },
    {
      "cell_type": "code",
      "execution_count": null,
      "id": "12",
      "metadata": {
        "id": "12",
        "colab": {
          "base_uri": "https://localhost:8080/"
        },
        "outputId": "b1f9832a-06ac-4cd9-99b6-f809a81bf9e6"
      },
      "outputs": [
        {
          "output_type": "execute_result",
          "data": {
            "text/plain": [
              "{'Name': 'Amazon River',\n",
              " 'Length': '6400km',\n",
              " 'Countries': ['Brazil', 'Peru', 'Colombia'],\n",
              " 'Average Discharge': (209, 0)}"
            ]
          },
          "metadata": {},
          "execution_count": 34
        }
      ],
      "source": [
        "geo_feature ={\"Name\": \"Amazon River\",\n",
        "              \"Length\" : \"6400km\",\n",
        "              \"Countries\": [\"Brazil\", \"Peru\", \"Colombia\"]\n",
        "              }\n",
        "average_discharge = 209,000\n",
        "\n",
        "geo_feature[\"Average Discharge\"] = average_discharge\n",
        "geo_feature"
      ]
    },
    {
      "cell_type": "markdown",
      "id": "13",
      "metadata": {
        "id": "13"
      },
      "source": [
        "## Exercise 7: Nested Data Structures\n",
        "\n",
        "Create a dictionary to represent a city that contains the city's name, population, and coordinates (latitude, longitude):\n",
        "\n",
        "- Name: \"Tokyo\"\n",
        "- Population: 13,515,271\n",
        "- Coordinates: (35.6895, 139.6917)\n",
        "\n",
        "Perform the following tasks:\n",
        "\n",
        "1. Access and print the population of the city.\n",
        "2. Access and print the city's latitude.\n",
        "3. Update the population to 14,000,000 and print the updated dictionary."
      ]
    },
    {
      "cell_type": "code",
      "execution_count": null,
      "id": "14",
      "metadata": {
        "id": "14"
      },
      "outputs": [],
      "source": [
        "Nested_city ={\"Name\": \"Tokyo\",\n",
        "              \"Population\" : 13515271,\n",
        "              \"Coordinates\": (35.6895, 139.6917)\n",
        "              }"
      ]
    },
    {
      "cell_type": "code",
      "source": [
        "print(Nested_city[\"Population\"])\n",
        "print(Nested_city['Coordinates'][0])"
      ],
      "metadata": {
        "colab": {
          "base_uri": "https://localhost:8080/"
        },
        "id": "hBgIPA3C60Ic",
        "outputId": "9f95e07b-ec87-4983-d5c3-7db14b5d2a63"
      },
      "id": "hBgIPA3C60Ic",
      "execution_count": null,
      "outputs": [
        {
          "output_type": "stream",
          "name": "stdout",
          "text": [
            "13515271\n",
            "35.6895\n"
          ]
        }
      ]
    },
    {
      "cell_type": "markdown",
      "id": "15",
      "metadata": {
        "id": "15"
      },
      "source": [
        "## Exercise 8: List Operations\n",
        "\n",
        "Given the list of cities from Exercise 3, perform the following operations:\n",
        "\n",
        "1. Sort the list of cities alphabetically by name.\n",
        "2. Create a new list that contains only the city names.\n",
        "3. Remove the last city from the original list and print the updated list."
      ]
    },
    {
      "cell_type": "code",
      "execution_count": null,
      "id": "16",
      "metadata": {
        "id": "16",
        "colab": {
          "base_uri": "https://localhost:8080/"
        },
        "outputId": "554e0d65-80a1-44ec-e132-fb3cad0eba48"
      },
      "outputs": [
        {
          "output_type": "stream",
          "name": "stdout",
          "text": [
            "['Chicago', 'Los Angeles', 'New york']\n"
          ]
        }
      ],
      "source": [
        "\n",
        "list_name =[\"New york\", \"Los Angeles\", \"Chicago\"]\n",
        "\n",
        "list_name.sort()\n",
        "\n",
        "print(list_name)"
      ]
    },
    {
      "cell_type": "code",
      "source": [
        "list_name.remove(\"New york\")\n",
        "\n"
      ],
      "metadata": {
        "id": "KnOWOhnDByCh"
      },
      "id": "KnOWOhnDByCh",
      "execution_count": null,
      "outputs": []
    },
    {
      "cell_type": "code",
      "source": [
        "print(list_name)"
      ],
      "metadata": {
        "colab": {
          "base_uri": "https://localhost:8080/"
        },
        "id": "I-QrYBMtEYE-",
        "outputId": "1042c914-6c76-4848-c946-0fe7e6e20740"
      },
      "id": "I-QrYBMtEYE-",
      "execution_count": null,
      "outputs": [
        {
          "output_type": "stream",
          "name": "stdout",
          "text": [
            "['Chicago', 'Los Angeles']\n"
          ]
        }
      ]
    },
    {
      "cell_type": "markdown",
      "id": "17",
      "metadata": {
        "id": "17"
      },
      "source": [
        "## Exercise 9: Dictionary Operations\n",
        "\n",
        "Using the dictionary from Exercise 6, perform the following tasks:\n",
        "\n",
        "1. Check if the key \"Length\" exists in the dictionary.\n",
        "2. Print all the keys in the dictionary.\n",
        "3. Print all the values in the dictionary."
      ]
    },
    {
      "cell_type": "code",
      "execution_count": null,
      "id": "18",
      "metadata": {
        "id": "18",
        "colab": {
          "base_uri": "https://localhost:8080/"
        },
        "outputId": "5b156dc0-5041-477d-e9f0-683675fea5c3"
      },
      "outputs": [
        {
          "output_type": "execute_result",
          "data": {
            "text/plain": [
              "4"
            ]
          },
          "metadata": {},
          "execution_count": 56
        }
      ],
      "source": [
        "len(geo_feature)"
      ]
    },
    {
      "cell_type": "code",
      "source": [
        "print(geo_feature.keys())\n",
        "\n",
        "print(geo_feature.values())"
      ],
      "metadata": {
        "colab": {
          "base_uri": "https://localhost:8080/"
        },
        "id": "1IY23gcAF-YL",
        "outputId": "50671772-d7f8-46a8-a059-9d1c44f82df8"
      },
      "id": "1IY23gcAF-YL",
      "execution_count": null,
      "outputs": [
        {
          "output_type": "stream",
          "name": "stdout",
          "text": [
            "dict_keys(['Name', 'Length', 'Countries', 'Average Discharge'])\n",
            "dict_values(['Amazon River', '6400km', ['Brazil', 'Peru', 'Colombia'], (209, 0)])\n"
          ]
        }
      ]
    },
    {
      "cell_type": "markdown",
      "id": "19",
      "metadata": {
        "id": "19"
      },
      "source": [
        "## Exercise 10: Practical Application\n",
        "\n",
        "Imagine you have a list of tuples, each representing a location with its name, latitude, and longitude:"
      ]
    },
    {
      "cell_type": "code",
      "execution_count": null,
      "id": "20",
      "metadata": {
        "id": "20"
      },
      "outputs": [],
      "source": [
        "locations = [\n",
        "    (\"Mount Everest\", 27.9881, 86.9250),\n",
        "    (\"K2\", 35.8808, 76.5155),\n",
        "    (\"Kangchenjunga\", 27.7025, 88.1475),\n",
        "]"
      ]
    },
    {
      "cell_type": "markdown",
      "id": "21",
      "metadata": {
        "id": "21"
      },
      "source": [
        "Perform the following tasks:\n",
        "\n",
        "1. Create a new list that contains only the names of the locations.\n",
        "2. Create a dictionary where the keys are location names and the values are tuples of their coordinates.\n",
        "3. Print the latitude of \"K2\" using the dictionary."
      ]
    },
    {
      "cell_type": "code",
      "source": [],
      "metadata": {
        "id": "_vwdrY3LHFAK"
      },
      "id": "_vwdrY3LHFAK",
      "execution_count": null,
      "outputs": []
    },
    {
      "cell_type": "code",
      "execution_count": null,
      "id": "22",
      "metadata": {
        "id": "22"
      },
      "outputs": [],
      "source": [
        "Name_loc = (\"Mount Everest\", \"K2\",\"Kangchenjunga\")"
      ]
    },
    {
      "cell_type": "code",
      "source": [
        "locations_name = { \"Name_loc\" : (\"Mount Everest\", \"K2\",\"Kangchenjunga\"),\n",
        "                  \"coordinates\": [(27.9881, 86.9250), (35.8808, 76.5155), (27.7025, 88.1475)]\n",
        "                  }\n",
        "\n",
        "\n",
        "locations_name[\"coordinates\"][1][0]"
      ],
      "metadata": {
        "colab": {
          "base_uri": "https://localhost:8080/"
        },
        "id": "sApnjeCAHHjj",
        "outputId": "8ac95eba-2dd8-47f0-90ab-959ae6f64724"
      },
      "id": "sApnjeCAHHjj",
      "execution_count": null,
      "outputs": [
        {
          "output_type": "execute_result",
          "data": {
            "text/plain": [
              "35.8808"
            ]
          },
          "metadata": {},
          "execution_count": 63
        }
      ]
    }
  ],
  "metadata": {
    "kernelspec": {
      "display_name": "Python 3",
      "language": "python",
      "name": "python3"
    },
    "language_info": {
      "codemirror_mode": {
        "name": "ipython",
        "version": 3
      },
      "file_extension": ".py",
      "mimetype": "text/x-python",
      "name": "python",
      "nbconvert_exporter": "python",
      "pygments_lexer": "ipython3",
      "version": "3.11.8"
    },
    "colab": {
      "provenance": [],
      "include_colab_link": true
    }
  },
  "nbformat": 4,
  "nbformat_minor": 5
}