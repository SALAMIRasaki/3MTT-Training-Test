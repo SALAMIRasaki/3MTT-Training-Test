{
  "cells": [
    {
      "cell_type": "markdown",
      "metadata": {
        "id": "view-in-github",
        "colab_type": "text"
      },
      "source": [
        "<a href=\"https://colab.research.google.com/github/SALAMIRasaki/3MTT-Training-Test/blob/main/LAB_2_EXCERCISE_(LOOPING).ipynb\" target=\"_parent\"><img src=\"https://colab.research.google.com/assets/colab-badge.svg\" alt=\"Open In Colab\"/></a>"
      ]
    },
    {
      "cell_type": "markdown",
      "id": "0",
      "metadata": {
        "id": "0"
      },
      "source": [
        "# Lab 2\n",
        "\n",
        "[![Open In Colab](https://colab.research.google.com/assets/colab-badge.svg)](https://colab.research.google.com/github/giswqs/geog-312/blob/main/book/labs/lab_02.ipynb)\n",
        "\n",
        "This notebook contains exercises based on the lectures on [**String Operations**](https://geog-312.gishub.org/book/python/04_string_operations.html) and [**Looping and Control Statements**](https://geog-312.gishub.org/book/python/05_looping.html). These exercises will help reinforce the concepts of string manipulation, loops, and conditionals in geospatial contexts."
      ]
    },
    {
      "cell_type": "markdown",
      "id": "1",
      "metadata": {
        "id": "1"
      },
      "source": [
        "## Exercise 1: Manipulating Geographic Location Strings\n",
        "\n",
        "- Create a string that represents the name of a geographic feature (e.g., `\"Amazon River\"`).\n",
        "- Convert the string to lowercase and then to uppercase.\n",
        "- Concatenate the string with the name of the country (e.g., `\"Brazil\"`) to create a full location name.\n",
        "- Repeat the string three times, separating each repetition with a dash (`-`)."
      ]
    },
    {
      "cell_type": "code",
      "execution_count": null,
      "id": "2",
      "metadata": {
        "id": "2",
        "colab": {
          "base_uri": "https://localhost:8080/",
          "height": 36
        },
        "outputId": "a6879cae-77d4-41b1-857f-455a6623fa5c"
      },
      "outputs": [
        {
          "output_type": "execute_result",
          "data": {
            "text/plain": [
              "'Amazon River'"
            ],
            "application/vnd.google.colaboratory.intrinsic+json": {
              "type": "string"
            }
          },
          "metadata": {},
          "execution_count": 6
        }
      ],
      "source": [
        "Geo_feature = \"Amazon River\"\n",
        "Geo_feature"
      ]
    },
    {
      "cell_type": "code",
      "source": [
        "Geo_feature.lower()"
      ],
      "metadata": {
        "colab": {
          "base_uri": "https://localhost:8080/",
          "height": 36
        },
        "id": "-fi2wqYlzSBC",
        "outputId": "7ffc721d-ed81-41b2-e2bb-933389ceebf8"
      },
      "id": "-fi2wqYlzSBC",
      "execution_count": null,
      "outputs": [
        {
          "output_type": "execute_result",
          "data": {
            "text/plain": [
              "'amazon river'"
            ],
            "application/vnd.google.colaboratory.intrinsic+json": {
              "type": "string"
            }
          },
          "metadata": {},
          "execution_count": 9
        }
      ]
    },
    {
      "cell_type": "code",
      "source": [
        "print(Geo_feature.upper())"
      ],
      "metadata": {
        "colab": {
          "base_uri": "https://localhost:8080/"
        },
        "id": "n7sFXLhvl1M_",
        "outputId": "6914d5d9-24cb-4245-acb7-b9884cbd0183"
      },
      "id": "n7sFXLhvl1M_",
      "execution_count": null,
      "outputs": [
        {
          "output_type": "stream",
          "name": "stdout",
          "text": [
            "AMAZON RIVER\n"
          ]
        }
      ]
    },
    {
      "cell_type": "code",
      "source": [
        "location_name = Geo_feature +  \" Brazil\"\n",
        "\n",
        "print(location_name)"
      ],
      "metadata": {
        "colab": {
          "base_uri": "https://localhost:8080/"
        },
        "id": "_TyLzhF301lz",
        "outputId": "fe01940d-6944-4ad6-d108-2dfe0eb38548"
      },
      "id": "_TyLzhF301lz",
      "execution_count": null,
      "outputs": [
        {
          "output_type": "stream",
          "name": "stdout",
          "text": [
            "Amazon River Brazil\n"
          ]
        }
      ]
    },
    {
      "cell_type": "code",
      "source": [
        "result = \"_\"\n",
        "\n",
        "for i in range(3):\n",
        "  result += location_name + \", _\"\n",
        "\n",
        "print(result)"
      ],
      "metadata": {
        "colab": {
          "base_uri": "https://localhost:8080/"
        },
        "id": "KRBSaCal4QfE",
        "outputId": "ee389e83-92f2-4607-a7c6-6ebfaa090d1a"
      },
      "id": "KRBSaCal4QfE",
      "execution_count": null,
      "outputs": [
        {
          "output_type": "stream",
          "name": "stdout",
          "text": [
            "_Amazon River Brazil, _Amazon River Brazil, _Amazon River Brazil, _\n"
          ]
        }
      ]
    },
    {
      "cell_type": "markdown",
      "id": "3",
      "metadata": {
        "id": "3"
      },
      "source": [
        "## Exercise 2: Extracting and Formatting Coordinates\n",
        "\n",
        "- Given a string with the format `\"latitude, longitude\"` (e.g., `\"40.7128N, 74.0060W\"`), extract the numeric values of latitude and longitude.\n",
        "- Convert these values to floats and remove the directional indicators (`N`, `S`, `E`, `W`).\n",
        "- Format the coordinates into a `POINT` WKT string (e.g., `\"POINT(-74.0060 40.7128)\"`)."
      ]
    },
    {
      "cell_type": "code",
      "execution_count": null,
      "id": "4",
      "metadata": {
        "id": "4"
      },
      "outputs": [],
      "source": [
        "latitude = \"40.7128N\"\n",
        "\n",
        "longitude=\"74.0060W\""
      ]
    },
    {
      "cell_type": "code",
      "source": [
        "latitude = latitude.replace(\"N\", \"\")\n",
        "\n",
        "longitude =longitude.replace(\"W\", \"\")\n",
        "\n",
        "\n",
        "print(latitude)\n",
        "print(longitude)"
      ],
      "metadata": {
        "colab": {
          "base_uri": "https://localhost:8080/"
        },
        "id": "ijpsOtKB8hsi",
        "outputId": "d463c035-284b-4310-942e-62b6f9be0a08"
      },
      "id": "ijpsOtKB8hsi",
      "execution_count": null,
      "outputs": [
        {
          "output_type": "stream",
          "name": "stdout",
          "text": [
            "40.7128\n",
            "74.0060\n"
          ]
        }
      ]
    },
    {
      "cell_type": "code",
      "source": [
        "latitude = float(latitude)\n",
        "longitude = float(longitude)        # prompt: latitude.dtype\n",
        "\n",
        "print(type(latitude))\n",
        "print(type(longitude))"
      ],
      "metadata": {
        "colab": {
          "base_uri": "https://localhost:8080/"
        },
        "id": "cUdV6T12EJ15",
        "outputId": "c7def87b-97a8-4740-947f-fac10046f800"
      },
      "id": "cUdV6T12EJ15",
      "execution_count": null,
      "outputs": [
        {
          "output_type": "stream",
          "name": "stdout",
          "text": [
            "<class 'float'>\n",
            "<class 'float'>\n"
          ]
        }
      ]
    },
    {
      "cell_type": "code",
      "source": [
        "def point_wkt(latitude, longitude):\n",
        "  return f\"POINT :({latitude}, {longitude})\"\n",
        "\n",
        "point = point_wkt(latitude, longitude)\n",
        "\n",
        "print(point)"
      ],
      "metadata": {
        "colab": {
          "base_uri": "https://localhost:8080/"
        },
        "id": "4UMuRPSIEmUa",
        "outputId": "7cb79d34-1e9a-4951-aa03-e81e908de60b"
      },
      "id": "4UMuRPSIEmUa",
      "execution_count": null,
      "outputs": [
        {
          "output_type": "stream",
          "name": "stdout",
          "text": [
            "POINT :(40.7128, 74.006)\n"
          ]
        }
      ]
    },
    {
      "cell_type": "code",
      "source": [
        "location ='Osun'\n",
        "point =f\"coordinates :{latitude}, {longitude}, {location}\"\n",
        "\n",
        "print(point)"
      ],
      "metadata": {
        "colab": {
          "base_uri": "https://localhost:8080/"
        },
        "id": "zsv8yhtZZt4r",
        "outputId": "71c7baf2-c370-481c-fe6b-417031cc478c"
      },
      "id": "zsv8yhtZZt4r",
      "execution_count": null,
      "outputs": [
        {
          "output_type": "stream",
          "name": "stdout",
          "text": [
            "coordinates :40.7128, 74.006, Osun\n"
          ]
        }
      ]
    },
    {
      "cell_type": "code",
      "source": [
        "print(type(latitude))\n",
        "print(type(longitude))"
      ],
      "metadata": {
        "colab": {
          "base_uri": "https://localhost:8080/"
        },
        "id": "XIxVDWwxJ0st",
        "outputId": "01b902a1-4b1a-4c1c-b1ca-4de0e9ca99e2"
      },
      "id": "XIxVDWwxJ0st",
      "execution_count": null,
      "outputs": [
        {
          "output_type": "stream",
          "name": "stdout",
          "text": [
            "<class 'float'>\n",
            "<class 'float'>\n"
          ]
        }
      ]
    },
    {
      "cell_type": "markdown",
      "id": "5",
      "metadata": {
        "id": "5"
      },
      "source": [
        "## Exercise 3: Building Dynamic SQL Queries\n",
        "\n",
        "- Given a table name and a condition, dynamically build an SQL query string.\n",
        "- Example: If `table_name = \"cities\"` and `condition = \"population > 1000000\"`, the query should be `\"SELECT * FROM cities WHERE population > 1000000;\"`.\n",
        "- Add additional conditions dynamically, like `AND` clauses."
      ]
    },
    {
      "cell_type": "code",
      "execution_count": null,
      "id": "6",
      "metadata": {
        "id": "6",
        "colab": {
          "base_uri": "https://localhost:8080/"
        },
        "outputId": "2fb94a84-ce52-4103-f3b9-9d41dff6d4fc"
      },
      "outputs": [
        {
          "output_type": "stream",
          "name": "stdout",
          "text": [
            "SELECT * FROM cities WHERE population > 1000000 AND 2023-01-01 \n"
          ]
        }
      ],
      "source": [
        "table_name = 'cities'\n",
        "condition = \"population > 1000000\"\n",
        "date = \"2023-01-01\"\n",
        "\n",
        "SQL_QUERY = f\"SELECT * FROM {table_name} WHERE {condition} AND {date} \"\n",
        "\n",
        "print(SQL_QUERY)"
      ]
    },
    {
      "cell_type": "markdown",
      "id": "7",
      "metadata": {
        "id": "7"
      },
      "source": [
        "## Exercise 4: String Normalization and Cleaning\n",
        "\n",
        "- Given a list of city names with inconsistent formatting (e.g., `[\" new york \", \"Los ANGELES\", \"   CHICAGO\"]`), normalize the names by:\n",
        "  - Stripping any leading or trailing whitespace.\n",
        "  - Converting them to title case (e.g., `\"New York\"`, `\"Los Angeles\"`, `\"Chicago\"`).\n",
        "- Ensure that the output is a clean list of city names."
      ]
    },
    {
      "cell_type": "code",
      "execution_count": null,
      "id": "8",
      "metadata": {
        "id": "8",
        "colab": {
          "base_uri": "https://localhost:8080/"
        },
        "outputId": "154955c9-b3b4-40f0-fca2-1605b6d55a69"
      },
      "outputs": [
        {
          "output_type": "execute_result",
          "data": {
            "text/plain": [
              "[' new york ', 'Los ANGELES', ' CHICAGO']"
            ]
          },
          "metadata": {},
          "execution_count": 72
        }
      ],
      "source": [
        "city_names =[\" new york \", \"Los ANGELES\", \" CHICAGO\"]\n",
        "\n",
        "city_names"
      ]
    },
    {
      "cell_type": "code",
      "source": [
        "city_name= [city_names.strip().title() for city_names in city_names]\n",
        "\n",
        "city_name"
      ],
      "metadata": {
        "colab": {
          "base_uri": "https://localhost:8080/"
        },
        "id": "BbhsDc5PUATt",
        "outputId": "8e46a3b9-b76f-4d45-8670-5588d85661b8"
      },
      "id": "BbhsDc5PUATt",
      "execution_count": null,
      "outputs": [
        {
          "output_type": "execute_result",
          "data": {
            "text/plain": [
              "['New York', 'Los Angeles', 'Chicago']"
            ]
          },
          "metadata": {},
          "execution_count": 78
        }
      ]
    },
    {
      "cell_type": "markdown",
      "id": "9",
      "metadata": {
        "id": "9"
      },
      "source": [
        "## Exercise 5: Parsing and Extracting Address Information\n",
        "\n",
        "- Given a string in the format `\"Street, City, Country\"` (e.g., `\"123 Main St, Springfield, USA\"`), write a function that parses the string into a dictionary with keys `street`, `city`, and `country`.\n",
        "- The function should return a dictionary like `{\"street\": \"123 Main St\", \"city\": \"Springfield\", \"country\": \"USA\"}`."
      ]
    },
    {
      "cell_type": "code",
      "source": [
        "address = \"123 Main St, Springfield, USA\"\n",
        "Street, City, Country = address.split(\", \")\n",
        "\n",
        "\n",
        "print(f\"Street :{Street}, City :{City}, Country :{Country}\")"
      ],
      "metadata": {
        "colab": {
          "base_uri": "https://localhost:8080/"
        },
        "id": "RfiLzSGYT_i4",
        "outputId": "d1ed8c06-bb7b-4ded-9475-8d2bea3b24c0"
      },
      "id": "RfiLzSGYT_i4",
      "execution_count": null,
      "outputs": [
        {
          "output_type": "stream",
          "name": "stdout",
          "text": [
            "Street :123 Main St, City :Springfield, Country :USA\n"
          ]
        }
      ]
    },
    {
      "cell_type": "code",
      "execution_count": null,
      "id": "10",
      "metadata": {
        "id": "10"
      },
      "outputs": [],
      "source": []
    },
    {
      "cell_type": "markdown",
      "id": "11",
      "metadata": {
        "id": "11"
      },
      "source": [
        "## Exercise 6: Using For Loops to Process Coordinate Lists\n",
        "\n",
        "- Create a list of tuples representing coordinates (latitude, longitude).\n",
        "- Write a `for` loop that prints each coordinate and indicates whether it is in the Northern or Southern Hemisphere based on the latitude."
      ]
    },
    {
      "cell_type": "code",
      "execution_count": null,
      "id": "12",
      "metadata": {
        "id": "12",
        "colab": {
          "base_uri": "https://localhost:8080/"
        },
        "outputId": "ca77b392-2975-41de-f7cd-aaf55d207ed1"
      },
      "outputs": [
        {
          "output_type": "stream",
          "name": "stdout",
          "text": [
            "LATITUDE :40.7128, LONGITUDE : 74.006\n",
            "LATITUDE :35.6895, LONGITUDE : 139.6917\n",
            "LATITUDE :34.0522, LONGITUDE : -118.2437\n",
            "LATITUDE :51.5074, LONGITUDE : -0.1278\n"
          ]
        }
      ],
      "source": [
        "coordinates = [(40.7128, 74.0060),\n",
        "               (35.6895,  139.6917),\n",
        "               (34.0522,   -118.2437),\n",
        "               (51.5074,   -0.1278),\n",
        "               ]\n",
        "\n",
        "for lat, lon in coordinates:\n",
        "  print((f\"LATITUDE :{lat}, LONGITUDE : {lon}\"))"
      ]
    },
    {
      "cell_type": "code",
      "source": [
        "coordinate = [(40.7128, 74.0060),\n",
        "               (35.6895,  139.6917),\n",
        "               (34.0522,   -118.2437),\n",
        "               (51.5074,   -0.1278),\n",
        "               ]\n",
        "for lat, lon in coordinate:\n",
        "\n",
        "  if lat >0:\n",
        "\n",
        "    Hemisphere = \"Northern\"\n",
        "  else:\n",
        "    Hemisphere =\"Southern\"\n",
        "\n",
        "  if lon > 0:\n",
        "\n",
        "    direction = \"Eastern\"\n",
        "  else:\n",
        "    direction= \"Western\"\n",
        "\n",
        "\n",
        "  print(\n",
        "    f\"The coordinate ({lat}, {lon}) is in the {Hemisphere} hemisphere and {direction} hemisphere.\"\n",
        "  )"
      ],
      "metadata": {
        "colab": {
          "base_uri": "https://localhost:8080/"
        },
        "id": "7iZy2p-NaX1t",
        "outputId": "5b55e98f-e13a-439f-a222-b47750854869"
      },
      "id": "7iZy2p-NaX1t",
      "execution_count": null,
      "outputs": [
        {
          "output_type": "stream",
          "name": "stdout",
          "text": [
            "The coordinate (40.7128, 74.006) is in the Northern hemisphere and Eastern hemisphere.\n",
            "The coordinate (35.6895, 139.6917) is in the Northern hemisphere and Eastern hemisphere.\n",
            "The coordinate (34.0522, -118.2437) is in the Northern hemisphere and Western hemisphere.\n",
            "The coordinate (51.5074, -0.1278) is in the Northern hemisphere and Western hemisphere.\n"
          ]
        }
      ]
    },
    {
      "cell_type": "code",
      "source": [
        "for lat, lon in coordinates:\n",
        "\n",
        "  if lat >0:\n",
        "\n",
        "    Hemisphere = \"Northern\"\n",
        "  else:\n",
        "    Hemisphere =\"Southern\"\n",
        "\n",
        "  if lon > 0:\n",
        "\n",
        "    direction = \"Eastern\"\n",
        "  else:\n",
        "    direction= \"Western\"\n",
        "\n",
        "\n",
        "print(f\"coordinates : ({lat, lon} is in the {Hemisphere} Hemisphere and {direction} Hemisphere)\")"
      ],
      "metadata": {
        "colab": {
          "base_uri": "https://localhost:8080/"
        },
        "id": "KPvjuXcs6_Dm",
        "outputId": "f567aff9-a936-434b-be23-7b7799414a31"
      },
      "id": "KPvjuXcs6_Dm",
      "execution_count": null,
      "outputs": [
        {
          "output_type": "stream",
          "name": "stdout",
          "text": [
            "coordinates : ((51.5074, -0.1278) is in the Northern Hemisphere and Western Hemisphere)\n"
          ]
        }
      ]
    },
    {
      "cell_type": "markdown",
      "id": "13",
      "metadata": {
        "id": "13"
      },
      "source": [
        "## Exercise 7: While Loops for Iterative Processing\n",
        "\n",
        "- Create a list of coordinates (latitude, longitude).\n",
        "- Write a `while` loop that continues to print each coordinate until it encounters a coordinate with a negative latitude.\n",
        "- Stop the loop once this condition is met."
      ]
    },
    {
      "cell_type": "code",
      "execution_count": null,
      "id": "14",
      "metadata": {
        "id": "14",
        "colab": {
          "base_uri": "https://localhost:8080/"
        },
        "outputId": "a8d9b0e1-76ec-4400-cca1-9766fe58466b"
      },
      "outputs": [
        {
          "output_type": "stream",
          "name": "stdout",
          "text": [
            "[40.7128, 74.006, 35.6895, 139.6917, 34.0522, -118.2437, 51.5074, -0.1278]\n"
          ]
        }
      ],
      "source": [
        "coordinates_list = [40.7128, 74.0060,\n",
        "               35.6895,  139.6917,\n",
        "               34.0522,   -118.2437,\n",
        "               51.5074,   -0.1278,\n",
        "               ]\n",
        "print(coordinates_list)\n"
      ]
    },
    {
      "cell_type": "code",
      "source": [
        "len(coordinates)\n"
      ],
      "metadata": {
        "colab": {
          "base_uri": "https://localhost:8080/"
        },
        "id": "dOQoYZepwdSg",
        "outputId": "96186b49-599b-48cc-f80d-7fe134dd2bcc"
      },
      "id": "dOQoYZepwdSg",
      "execution_count": null,
      "outputs": [
        {
          "output_type": "execute_result",
          "data": {
            "text/plain": [
              "4"
            ]
          },
          "metadata": {},
          "execution_count": 27
        }
      ]
    },
    {
      "cell_type": "code",
      "source": [
        "index = 0\n",
        "while  index < len(coordinates_list) and coordinates_list[index] >=0:\n",
        "  print(coordinates_list[index])\n",
        "  index +=1\n"
      ],
      "metadata": {
        "colab": {
          "base_uri": "https://localhost:8080/"
        },
        "id": "rW4_hojmlj6k",
        "outputId": "d1a8b43f-66c3-45e5-b392-f80e5b279903"
      },
      "id": "rW4_hojmlj6k",
      "execution_count": null,
      "outputs": [
        {
          "output_type": "stream",
          "name": "stdout",
          "text": [
            "40.7128\n",
            "74.006\n",
            "35.6895\n",
            "139.6917\n",
            "34.0522\n"
          ]
        }
      ]
    },
    {
      "cell_type": "markdown",
      "id": "15",
      "metadata": {
        "id": "15"
      },
      "source": [
        "## Exercise 8: Conditional Logic in Loops\n",
        "\n",
        "- Create a list of coordinates and use a `for` loop to iterate over them.\n",
        "- Use an `if-elif-else` statement inside the loop to classify each coordinate based on its longitude:\n",
        "  - Print `\"Eastern Hemisphere\"` if the longitude is greater than 0.\n",
        "  - Print `\"Western Hemisphere\"` if the longitude is less than 0."
      ]
    },
    {
      "cell_type": "code",
      "execution_count": null,
      "id": "16",
      "metadata": {
        "id": "16",
        "colab": {
          "base_uri": "https://localhost:8080/"
        },
        "outputId": "dbf5c90e-2bb2-4494-a47f-81231fc12fd2"
      },
      "outputs": [
        {
          "output_type": "stream",
          "name": "stdout",
          "text": [
            "[(40.7128, 74.006), (35.6895, 139.6917), (34.0522, -118.2437), (51.5074, -0.1278)]\n"
          ]
        }
      ],
      "source": [
        "coordinates_list = [(40.7128, 74.00600),\n",
        "               (35.6895,  139.6917),\n",
        "               (34.0522,   -118.2437),\n",
        "               (51.5074,   -0.1278),\n",
        "               ]\n",
        "print(coordinates_list)"
      ]
    },
    {
      "cell_type": "code",
      "source": [
        "for lat, lon in coordinates_list:\n",
        "  if lon > 0:\n",
        "    print(f\"{lon} is in Eastern Hemisphere\")\n",
        "\n",
        "  elif lon < 0:\n",
        "    print(f\"{lon} is in the Western Hemisphere\")\n",
        "\n",
        "  else:\n",
        "    print(f\"{lon} is near the equator\")"
      ],
      "metadata": {
        "colab": {
          "base_uri": "https://localhost:8080/"
        },
        "id": "CmRkpCtH4uUW",
        "outputId": "34bac578-8457-4132-e357-d99c7b423a58"
      },
      "id": "CmRkpCtH4uUW",
      "execution_count": null,
      "outputs": [
        {
          "output_type": "stream",
          "name": "stdout",
          "text": [
            "74.006 is in Eastern Hemisphere\n",
            "139.6917 is in Eastern Hemisphere\n",
            "-118.2437 is in the Western Hemisphere\n",
            "-0.1278 is in the Western Hemisphere\n"
          ]
        }
      ]
    },
    {
      "cell_type": "markdown",
      "id": "17",
      "metadata": {
        "id": "17"
      },
      "source": [
        "## Exercise 9: Filtering Data with Combined Loops and Conditionals\n",
        "\n",
        "- Given a list of coordinates, filter out and store only those located in the Southern Hemisphere (latitude < 0).\n",
        "- Count the number of coordinates that meet this condition and print the result."
      ]
    },
    {
      "cell_type": "code",
      "execution_count": 16,
      "id": "18",
      "metadata": {
        "id": "18",
        "colab": {
          "base_uri": "https://localhost:8080/"
        },
        "outputId": "fc805e61-5697-4008-fdd2-0ecb73de9c20"
      },
      "outputs": [
        {
          "output_type": "stream",
          "name": "stdout",
          "text": [
            "[(40.7128, 74.006), (35.6895, 139.6917), (34.0522, -118.2437), (51.5074, -0.1278), (-87.3432, 140.0343)]\n"
          ]
        }
      ],
      "source": [
        "cordinates_HI = [(40.7128, 74.00600),\n",
        "               (35.6895,  139.6917),\n",
        "               (34.0522,   -118.2437),\n",
        "               (51.5074,   -0.1278),\n",
        "               (-87.3432,   140.0343)\n",
        "               ]\n",
        "print(cordinates_HI)"
      ]
    },
    {
      "cell_type": "code",
      "source": [
        "Southern_Hemisphere = []\n",
        "\n",
        "for lat, lon in cordinates_HI:\n",
        "  if lat < 0:\n",
        "    Southern_Hemisphere.append((lat, lon))\n",
        "    print(Southern_Hemisphere)\n",
        "    print(len(Southern_Hemisphere))\n",
        "\n",
        "  else:\n",
        "      print(\"No Southern Hemisphere\")\n",
        "\n"
      ],
      "metadata": {
        "colab": {
          "base_uri": "https://localhost:8080/"
        },
        "id": "mZc2DWS_CvBN",
        "outputId": "9bb6ea5d-e269-4809-946c-6ff4ce212f0e"
      },
      "id": "mZc2DWS_CvBN",
      "execution_count": 23,
      "outputs": [
        {
          "output_type": "stream",
          "name": "stdout",
          "text": [
            "No Southern Hemisphere\n",
            "No Southern Hemisphere\n",
            "No Southern Hemisphere\n",
            "No Southern Hemisphere\n",
            "[(-87.3432, 140.0343)]\n",
            "1\n"
          ]
        }
      ]
    },
    {
      "cell_type": "code",
      "source": [],
      "metadata": {
        "id": "WzAdGGYOEjHI"
      },
      "id": "WzAdGGYOEjHI",
      "execution_count": null,
      "outputs": []
    },
    {
      "cell_type": "markdown",
      "id": "19",
      "metadata": {
        "id": "19"
      },
      "source": [
        "## Exercise 10: Generating and Analyzing Random Coordinates\n",
        "\n",
        "- Write a program that generates random coordinates (latitude between [-90, 90] degrees and longitude between [-180, 180] degrees).\n",
        "- Use a `while` loop to keep generating coordinates until a pair with both latitude and longitude greater than 50 is generated.\n",
        "- Print each generated coordinate and the final coordinate that meets the condition."
      ]
    },
    {
      "cell_type": "code",
      "execution_count": 12,
      "id": "20",
      "metadata": {
        "id": "20",
        "colab": {
          "base_uri": "https://localhost:8080/"
        },
        "outputId": "5567126f-4661-4279-8361-db57bb7692f8"
      },
      "outputs": [
        {
          "output_type": "stream",
          "name": "stdout",
          "text": [
            "    latitude   longitude\n",
            "0 -63.483385  122.228615\n",
            "    latitude   longitude\n",
            "0 -63.483385  122.228615\n",
            "1 -40.770132  -51.079306\n",
            "    latitude   longitude\n",
            "0 -63.483385  122.228615\n",
            "1 -40.770132  -51.079306\n",
            "2  28.267895  -72.157292\n",
            "    latitude   longitude\n",
            "0 -63.483385  122.228615\n",
            "1 -40.770132  -51.079306\n",
            "2  28.267895  -72.157292\n",
            "3 -11.443328 -128.373096\n",
            "    latitude   longitude\n",
            "0 -63.483385  122.228615\n",
            "1 -40.770132  -51.079306\n",
            "2  28.267895  -72.157292\n",
            "3 -11.443328 -128.373096\n",
            "4 -59.747256  109.056799\n"
          ]
        }
      ],
      "source": [
        "import pandas as pd\n",
        "import random\n",
        "\n",
        "#Initialize an empty list\n",
        "\n",
        "latitudes = []\n",
        "longitudes= []\n",
        "\n",
        "#Set the number of coordinate to generate\n",
        "\n",
        "coord_num = 5\n",
        "\n",
        "#Initialize a counter\n",
        "index = 0\n",
        "\n",
        "while index < coord_num:\n",
        "  #Generate random latitude value between -90 and 90\n",
        "\n",
        "  latitude = random.uniform(-90, 90)\n",
        "\n",
        "  #Generate random longitude value between -180 and 180\n",
        "\n",
        "  longitude = random.uniform(-180, 180)\n",
        "\n",
        "  #Append the generated values to the lists\n",
        "\n",
        "  latitudes.append(latitude)\n",
        "  longitudes.append(longitude)\n",
        "\n",
        "  #Increment Counter\n",
        "\n",
        "  index +=1\n",
        "\n",
        "  #Create a DataFrame with the Generated Values\n",
        "\n",
        "  df = pd.DataFrame({\n",
        "      \"latitude\": latitudes,\n",
        "      \"longitude\": longitudes\n",
        "  })\n",
        "  print(df)\n",
        "\n"
      ]
    },
    {
      "cell_type": "code",
      "source": [
        "print(pd)"
      ],
      "metadata": {
        "colab": {
          "base_uri": "https://localhost:8080/"
        },
        "id": "afxkEdIMVH_n",
        "outputId": "1e767c5e-0056-4d4c-b05d-ce0f2deac346"
      },
      "id": "afxkEdIMVH_n",
      "execution_count": 8,
      "outputs": [
        {
          "output_type": "stream",
          "name": "stdout",
          "text": [
            "<module 'pandas' from '/usr/local/lib/python3.11/dist-packages/pandas/__init__.py'>\n"
          ]
        }
      ]
    }
  ],
  "metadata": {
    "kernelspec": {
      "display_name": "Python 3",
      "language": "python",
      "name": "python3"
    },
    "language_info": {
      "codemirror_mode": {
        "name": "ipython",
        "version": 3
      },
      "file_extension": ".py",
      "mimetype": "text/x-python",
      "name": "python",
      "nbconvert_exporter": "python",
      "pygments_lexer": "ipython3",
      "version": "3.11.8"
    },
    "colab": {
      "provenance": [],
      "include_colab_link": true
    }
  },
  "nbformat": 4,
  "nbformat_minor": 5
}